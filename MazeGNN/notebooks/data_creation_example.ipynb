{
 "cells": [
  {
   "cell_type": "code",
   "execution_count": 1,
   "metadata": {},
   "outputs": [],
   "source": [
    "import os\n",
    "import sys\n",
    "sys.path.append('..')\n",
    "sys.path.append('../maps')\n",
    "from utils import *\n",
    "from datagen import *\n",
    "%matplotlib inline"
   ]
  },
  {
   "cell_type": "code",
   "execution_count": 2,
   "metadata": {},
   "outputs": [],
   "source": [
    "for dataagrs in [{'imgpath':'../maps/map1.jpg', 'start':(2064,2114,21,71), 'goal':(21,71,3825,3875),'poolsize':10, 'test_size':0.3} ]:\n",
    "    dataargs = objectview(dataagrs)"
   ]
  },
  {
   "cell_type": "code",
   "execution_count": 3,
   "metadata": {},
   "outputs": [],
   "source": [
    " #goal region\n",
    "mz0=image2maze(dataargs.imgpath, start=dataargs.start, goal=dataargs.goal)"
   ]
  },
  {
   "cell_type": "code",
   "execution_count": 4,
   "metadata": {},
   "outputs": [
    {
     "data": {
      "text/plain": [
       "<matplotlib.image.AxesImage at 0x7fda968b5c10>"
      ]
     },
     "execution_count": 4,
     "metadata": {},
     "output_type": "execute_result"
    },
    {
     "data": {
      "image/png": "[encoded data removed]",
      "text/plain": [
       "<Figure size 432x288 with 1 Axes>"
      ]
     },
     "metadata": {
      "needs_background": "light"
     },
     "output_type": "display_data"
    }
   ],
   "source": [
    "plt.imshow(mz0)"
   ]
  },
  {
   "cell_type": "code",
   "execution_count": 5,
   "metadata": {
    "scrolled": true
   },
   "outputs": [
    {
     "name": "stdout",
     "output_type": "stream",
     "text": [
      "extract_edges_and_features_from_image: edges and edge_features dicts created 0.7202168637886643\n",
      "sanity checks...\n",
      "0 / 60845 1.1492986232042313e-05\n",
      "1000 / 60845 0.001532937865704298\n",
      "2000 / 60845 0.002703297883272171\n",
      "3000 / 60845 0.004022677894681692\n",
      "4000 / 60845 0.005169883836060762\n",
      "5000 / 60845 0.006495354697108269\n",
      "6000 / 60845 0.007651666644960642\n",
      "7000 / 60845 0.00885420897975564\n",
      "8000 / 60845 0.010142222978174686\n",
      "9000 / 60845 0.011355920694768429\n",
      "10000 / 60845 0.01257083285599947\n",
      "11000 / 60845 0.013832324650138617\n",
      "12000 / 60845 0.015236486680805683\n",
      "13000 / 60845 0.016458758618682623\n",
      "14000 / 60845 0.01774235488846898\n",
      "15000 / 60845 0.018938881810754538\n",
      "16000 / 60845 0.02039634995162487\n",
      "17000 / 60845 0.02169513376429677\n",
      "18000 / 60845 0.022910250816494226\n",
      "19000 / 60845 0.024264597799628973\n",
      "20000 / 60845 0.025466032791882753\n",
      "21000 / 60845 0.026773676741868258\n",
      "22000 / 60845 0.028008081950247288\n",
      "23000 / 60845 0.029212704859673977\n",
      "24000 / 60845 0.030427857767790556\n",
      "25000 / 60845 0.031817246694117785\n",
      "26000 / 60845 0.033023081719875336\n",
      "27000 / 60845 0.034338642843067646\n",
      "28000 / 60845 0.03585783066228032\n",
      "29000 / 60845 0.03705979185178876\n",
      "30000 / 60845 0.03846060764044523\n",
      "31000 / 60845 0.03991249995306134\n",
      "32000 / 60845 0.04118371196091175\n",
      "33000 / 60845 0.042454761918634176\n",
      "34000 / 60845 0.043799541890621185\n",
      "35000 / 60845 0.04502075770869851\n",
      "36000 / 60845 0.04622945887967944\n",
      "37000 / 60845 0.04748079692944884\n",
      "38000 / 60845 0.048670186661183834\n",
      "39000 / 60845 0.04985538776963949\n",
      "40000 / 60845 0.05108093097805977\n",
      "41000 / 60845 0.0522816008888185\n",
      "42000 / 60845 0.05368829891085625\n",
      "43000 / 60845 0.05486876191571355\n",
      "44000 / 60845 0.05603057472035289\n",
      "45000 / 60845 0.057199361734092236\n",
      "46000 / 60845 0.05847706692293286\n",
      "47000 / 60845 0.059658624697476625\n",
      "48000 / 60845 0.06085188500583172\n",
      "49000 / 60845 0.062250328715890646\n",
      "50000 / 60845 0.0634749629534781\n",
      "51000 / 60845 0.06466520158573985\n",
      "52000 / 60845 0.06585499085485935\n",
      "53000 / 60845 0.06707460200414062\n",
      "54000 / 60845 0.06828925292938948\n",
      "55000 / 60845 0.06947443494573236\n",
      "56000 / 60845 0.07067890465259552\n",
      "57000 / 60845 0.07187351770699024\n",
      "58000 / 60845 0.07316658273339272\n",
      "59000 / 60845 0.07443753583356738\n",
      "60000 / 60845 0.07572118658572435\n",
      "0.07788031082600355\n",
      "1.0648577376268804 Edges and edge features extracted from func:extract_edges_and_features_from_image.\n"
     ]
    },
    {
     "data": {
      "text/plain": [
       "Data(x=[60845, 2], edge_index=[2, 238606], edge_features=[238606, 2])"
      ]
     },
     "execution_count": 5,
     "metadata": {},
     "output_type": "execute_result"
    }
   ],
   "source": [
    "data = create_data(dataargs)\n",
    "data"
   ]
  },
  {
   "cell_type": "code",
   "execution_count": 6,
   "metadata": {},
   "outputs": [
    {
     "data": {
      "text/plain": [
       "Data(x=[60845, 2], edge_index=[2, 238606], edge_features=[238606, 2], num_nodes=60845, scaler=392.0, shift=153.0338134765625, train_mask=[60845], test_mask=[60845])"
      ]
     },
     "execution_count": 6,
     "metadata": {},
     "output_type": "execute_result"
    }
   ],
   "source": [
    "dataset = create_dataset(dataargs)\n",
    "dataset.data"
   ]
  },
  {
   "cell_type": "code",
   "execution_count": 7,
   "metadata": {},
   "outputs": [
    {
     "name": "stdout",
     "output_type": "stream",
     "text": [
      "tensor(42591) tensor(18254)\n"
     ]
    }
   ],
   "source": [
    "print(dataset.data.train_mask.sum(), dataset.data.test_mask.sum())"
   ]
  },
  {
   "cell_type": "code",
   "execution_count": 8,
   "metadata": {},
   "outputs": [],
   "source": [
    "for dataagrs in [{'imgpath':'../maps/map1.jpg', 'start':(2064,2114,21,71), 'goal':(21,71,3825,3875),'poolsize':10}]:\n",
    "    dataargs = objectview(dataagrs)"
   ]
  },
  {
   "cell_type": "code",
   "execution_count": 9,
   "metadata": {},
   "outputs": [
    {
     "data": {
      "text/plain": [
       "Data(x=[60845, 2], edge_index=[2, 238606], edge_features=[238606, 2], num_nodes=60845, scaler=392.0, shift=153.0338134765625, train_mask=[60845])"
      ]
     },
     "execution_count": 9,
     "metadata": {},
     "output_type": "execute_result"
    }
   ],
   "source": [
    "dataset = create_dataset(dataargs)\n",
    "dataset.data"
   ]
  },
  {
   "cell_type": "code",
   "execution_count": 10,
   "metadata": {},
   "outputs": [
    {
     "data": {
      "text/plain": [
       "tensor(60845)"
      ]
     },
     "execution_count": 10,
     "metadata": {},
     "output_type": "execute_result"
    }
   ],
   "source": [
    "dataset.data.train_mask.sum()"
   ]
  },
  {
   "cell_type": "code",
   "execution_count": null,
   "metadata": {},
   "outputs": [],
   "source": []
  }
 ],
 "metadata": {
  "kernelspec": {
   "display_name": "Python (sptm2)",
   "language": "python",
   "name": "sptm2"
  },
  "language_info": {
   "codemirror_mode": {
    "name": "ipython",
    "version": 3
   },
   "file_extension": ".py",
   "mimetype": "text/x-python",
   "name": "python",
   "nbconvert_exporter": "python",
   "pygments_lexer": "ipython3",
   "version": "3.7.9"
  }
 },
 "nbformat": 4,
 "nbformat_minor": 4
}

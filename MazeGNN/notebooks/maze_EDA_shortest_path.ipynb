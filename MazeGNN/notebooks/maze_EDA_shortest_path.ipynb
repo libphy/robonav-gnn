{
 "cells": [
  {
   "cell_type": "markdown",
   "metadata": {},
   "source": [
    "# Robotic Navigation Toy Problem\n",
    "This notebook imports a map image (created by ppt) and converts it to a graph.     \n",
    "The nodes are the coordinate of accessible positions in the map and the edges are discrete actions (up, down, left and right).    \n",
    "The first part demonstrates how a shortest path search in the networkx package scales on the grid size. "
   ]
  },
  {
   "cell_type": "code",
   "execution_count": 1,
   "metadata": {},
   "outputs": [
    {
     "data": {
      "text/html": [
       "<style>.container { width:100% !important; }</style>"
      ],
      "text/plain": [
       "<IPython.core.display.HTML object>"
      ]
     },
     "metadata": {},
     "output_type": "display_data"
    }
   ],
   "source": [
    "from IPython.core.display import display, HTML\n",
    "display(HTML(\"<style>.container { width:100% !important; }</style>\"))"
   ]
  },
  {
   "cell_type": "code",
   "execution_count": 8,
   "metadata": {},
   "outputs": [],
   "source": [
    "import networkx as nx\n",
    "import numpy as np\n",
    "import matplotlib.pyplot as plt\n",
    "%matplotlib inline\n",
    "from matplotlib import animation\n",
    "from IPython.display import HTML\n",
    "import time"
   ]
  },
  {
   "cell_type": "code",
   "execution_count": 3,
   "metadata": {},
   "outputs": [],
   "source": [
    "from networkx.algorithms.shortest_paths.generic import shortest_path\n",
    "\n",
    "def maxpool(img, window_size=50):\n",
    "    newrows = img.shape[0]//window_size+1\n",
    "    newcols = img.shape[1]//window_size+1\n",
    "    newimg = np.zeros((newrows,newcols))\n",
    "    for row in range(newrows):\n",
    "        for col in range(newcols):\n",
    "            newimg[row,col] = np.max(img[row*window_size:(row+1)*window_size,col*window_size:(col+1)*window_size])\n",
    "    return newimg      \n",
    "\n",
    "def coarse_map(map_orig, poolsize=5):\n",
    "    return np.concatenate([np.expand_dims(maxpool(map_orig[:,:,0],poolsize),-1),np.expand_dims(maxpool(map_orig[:,:,1],poolsize),-1),np.expand_dims(maxpool(map_orig[:,:,2],poolsize),-1)],axis=-1)\n",
    "\n",
    "def extract_edges(node_coords):\n",
    "    edges=[]\n",
    "    for i in range(1,node_coords[:,0].max()+1): #row sweep\n",
    "        indexes=np.argwhere(node_coords[:,0]==i).T[0] \n",
    "        for k in range(1,len(indexes)):\n",
    "            if abs(node_coords[indexes[k],1]-node_coords[indexes[k-1],1])==1:\n",
    "                edges.append((indexes[k-1],indexes[k]))\n",
    "    for j in range(1,node_coords[:,1].max()+1): #col sweep\n",
    "        indexes=np.argwhere(node_coords[:,1]==j).T[0]       \n",
    "        for k in range(1,len(indexes)):\n",
    "            if abs(node_coords[indexes[k],0]-node_coords[indexes[k-1],0])==1:\n",
    "                edges.append((indexes[k-1],indexes[k]))\n",
    "    return edges   \n",
    "\n",
    "def find_index(lst,val):\n",
    "    for i in range(len(lst)):\n",
    "        el=lst[i]           \n",
    "        if (abs(el[0]-val[0])<=1)&(abs(el[1]-val[1])<=1):\n",
    "            return i\n",
    "            "
   ]
  },
  {
   "cell_type": "code",
   "execution_count": 4,
   "metadata": {},
   "outputs": [
    {
     "data": {
      "text/plain": [
       "<matplotlib.image.AxesImage at 0x7f017ab749d0>"
      ]
     },
     "execution_count": 4,
     "metadata": {},
     "output_type": "execute_result"
    },
    {
     "data": {
      "image/png": "[encoded data removed]",
      "text/plain": [
       "<Figure size 432x288 with 1 Axes>"
      ]
     },
     "metadata": {
      "needs_background": "light"
     },
     "output_type": "display_data"
    }
   ],
   "source": [
    "maze = plt.imread('../maps/map1.jpg')\n",
    "# create start and goal regions. It is manually created after inspecting the map\n",
    "maze[2064:2114,21:71,1] = 1 #start region\n",
    "maze[21:71, 3825:3875, 2] = 1 #goal\n",
    "plt.imshow(maze[:,:,1:]) "
   ]
  },
  {
   "cell_type": "code",
   "execution_count": 5,
   "metadata": {},
   "outputs": [
    {
     "data": {
      "image/png": "[encoded data removed]",
      "text/plain": [
       "<Figure size 432x288 with 1 Axes>"
      ]
     },
     "metadata": {
      "needs_background": "light"
     },
     "output_type": "display_data"
    },
    {
     "data": {
      "image/png": "[encoded data removed]",
      "text/plain": [
       "<Figure size 432x288 with 1 Axes>"
      ]
     },
     "metadata": {
      "needs_background": "light"
     },
     "output_type": "display_data"
    },
    {
     "data": {
      "image/png": "[encoded data removed]",
      "text/plain": [
       "<Figure size 432x288 with 1 Axes>"
      ]
     },
     "metadata": {
      "needs_background": "light"
     },
     "output_type": "display_data"
    }
   ],
   "source": [
    "# The image from ppt has 4 channels, so I had to choose 3 channels for the start region, goal region, and the walls (mz0 below)\n",
    "# The start and goal regions were manually selected after visual inspection of the map, and they are more than 1 pixels for visualization purposes. \n",
    "# If we use a different maze generating tool, perhaps different preprocessing may be needed.\n",
    "# Below shows the resulting maps when we coarsen the original grid (2136 x 3989) by subsampling by 10 and 50 pixels in each row and cols.\n",
    "mz0=maze[:,:,1:]\n",
    "mz10 = coarse_map(mz0,10)\n",
    "mz50 = coarse_map(mz0,50)\n",
    "plt.imshow(mz0)\n",
    "plt.show()\n",
    "plt.imshow(mz10)\n",
    "plt.show()\n",
    "plt.imshow(mz50)\n",
    "plt.show()"
   ]
  },
  {
   "cell_type": "code",
   "execution_count": 6,
   "metadata": {},
   "outputs": [],
   "source": [
    "def calc_shortest_path(grid):\n",
    "    node_coords = np.argwhere(1-grid[:,:,2])\n",
    "    print(len(node_coords), 'nodes.')\n",
    "    ##  extract edges\n",
    "    t0=time.perf_counter()\n",
    "    edges = extract_edges(node_coords)\n",
    "    t1=time.perf_counter()\n",
    "    print(len(edges), 'edges extracted', t1-t0, 's.')\n",
    "    t0=time.perf_counter()\n",
    "    G=nx.Graph()\n",
    "    G.add_nodes_from(range(len(node_coords)))\n",
    "    G.add_edges_from(edges)\n",
    "    t1=time.perf_counter()\n",
    "    print('Graph created', t1-t0, 's.') \n",
    "    source = find_index(node_coords,np.argwhere(grid[:,:,0]*(1-grid[:,:,2]))[0]) # since source and target node need to be unique, it chooses one node out of the region\n",
    "    target = find_index(node_coords,np.argwhere(grid[:,:,1]*(1-grid[:,:,2]))[0])\n",
    "    print('source', source,'target', target)\n",
    "    t0=time.perf_counter()\n",
    "    sp = shortest_path(G,source,target)\n",
    "    t1=time.perf_counter()\n",
    "    print('Shortest path with length', len(sp), t1-t0,'s.')\n",
    "    return sp, G"
   ]
  },
  {
   "cell_type": "code",
   "execution_count": 9,
   "metadata": {},
   "outputs": [
    {
     "name": "stdout",
     "output_type": "stream",
     "text": [
      "2081 nodes.\n",
      "3681 edges extracted 0.013240050058811903 s.\n",
      "Graph created 0.013696271926164627 s.\n",
      "source 1959 target 59\n",
      "Shortest path with length 154 0.003396218176931143 s.\n"
     ]
    }
   ],
   "source": [
    "sp50, G50 = calc_shortest_path(mz50)"
   ]
  },
  {
   "cell_type": "code",
   "execution_count": 10,
   "metadata": {},
   "outputs": [],
   "source": [
    "import copy\n",
    "def display(grid,sp):\n",
    "    node_coords = np.argwhere(1-grid[:,:,2])\n",
    "    overlay = copy.deepcopy(grid)\n",
    "    for i in sp:\n",
    "        x = node_coords[i]\n",
    "        overlay[x[0],x[1],0]=1\n",
    "        overlay[x[0],x[1],1]=1\n",
    "    plt.imshow(overlay) "
   ]
  },
  {
   "cell_type": "code",
   "execution_count": 11,
   "metadata": {},
   "outputs": [
    {
     "data": {
      "image/png": "[encoded data removed]",
      "text/plain": [
       "<Figure size 432x288 with 1 Axes>"
      ]
     },
     "metadata": {
      "needs_background": "light"
     },
     "output_type": "display_data"
    }
   ],
   "source": [
    "display(mz50,sp50)"
   ]
  },
  {
   "cell_type": "code",
   "execution_count": 12,
   "metadata": {},
   "outputs": [
    {
     "name": "stdout",
     "output_type": "stream",
     "text": [
      "60845 nodes.\n",
      "119303 edges extracted 0.16856512986123562 s.\n",
      "Graph created 0.44045847887173295 s.\n",
      "source 58847 target 318\n",
      "Shortest path with length 743 0.08559260657057166 s.\n"
     ]
    },
    {
     "data": {
      "image/png": "[encoded data removed]",
      "text/plain": [
       "<Figure size 432x288 with 1 Axes>"
      ]
     },
     "metadata": {
      "needs_background": "light"
     },
     "output_type": "display_data"
    }
   ],
   "source": [
    "sp10, G10 = calc_shortest_path(mz10)\n",
    "display(mz10,sp10)"
   ]
  },
  {
   "cell_type": "code",
   "execution_count": 13,
   "metadata": {},
   "outputs": [
    {
     "name": "stdout",
     "output_type": "stream",
     "text": [
      "6310323 nodes.\n",
      "12596752 edges extracted 49.520407197996974 s.\n",
      "Graph created 52.68966910708696 s.\n",
      "source 6134355 target 3243\n",
      "Shortest path with length 7418 11.577543524093926 s.\n"
     ]
    },
    {
     "data": {
      "image/png": "[encoded data removed]",
      "text/plain": [
       "<Figure size 432x288 with 1 Axes>"
      ]
     },
     "metadata": {
      "needs_background": "light"
     },
     "output_type": "display_data"
    }
   ],
   "source": [
    "sp0, G0 = calc_shortest_path(mz0)\n",
    "display(mz0,sp0) "
   ]
  },
  {
   "cell_type": "code",
   "execution_count": 14,
   "metadata": {},
   "outputs": [
    {
     "name": "stdout",
     "output_type": "stream",
     "text": [
      "(2136, 3989, 3)\n",
      "(214, 399, 3)\n",
      "(43, 80, 3)\n"
     ]
    }
   ],
   "source": [
    "print(mz0.shape)\n",
    "print(mz10.shape)\n",
    "print(mz50.shape)"
   ]
  },
  {
   "cell_type": "markdown",
   "metadata": {},
   "source": [
    "## Conclusion\n",
    "In this experiment, I showed how time scales on coarsened grids.\n",
    "\n",
    "|Coarsening|None|10|50|\n",
    "|:-------:|:---------------:|:----------:|:---------:|\n",
    "| grid size|2136x3989 | 214x399|43x80|\n",
    "|num nodes|6.3M|61k|2k|\n",
    "|num edges|12.6M|119k|3.7k|\n",
    "|time edge created| 51s | 0.17s|0.015s|\n",
    "|time graph created| 64s | 0.5 s|0.013s|\n",
    "|time shortest path| 12.5s|0.08s|0.003s|\n",
    "|shortest path length|7418|743|154|\n",
    "\n",
    "Shortest path calculation on a grid with 12M edges didn't take long.    \n",
    "It seems that there is not much advantage of using GNN to calculate shortest path on this 10M edge sized map.    \n",
    "Perhaps if it becomes 3D or bigger action space, it's more useful to coarsen.    \n",
    "Also it assumes grids are known and accurate. In real world, grid may be estimated from measurements.    \n",
    "But to do that an agent need to explore all area and accurately map the walls and objects.    \n",
    "Also when there is a moving object (or its location changes occasionally), then, the agent needs to do the mapping and searching again. (well, is it different when we use GNN?)    \n",
    "Perhaps in a dynamically changing environment, it is better to have a short-term plan. Such as identify turn or corner, then go there then look around.  \n",
    "\n",
    "For project purpose, we prioritize two tasks: graph abstraction (supergraph generation) and node feature calculation to make the agent move along the middle part of the corridor (not getting too close to the wall).  "
   ]
  },
  {
   "cell_type": "markdown",
   "metadata": {},
   "source": []
  }
 ],
 "metadata": {
  "kernelspec": {
   "display_name": "Python (sptm2)",
   "language": "python",
   "name": "sptm2"
  },
  "language_info": {
   "codemirror_mode": {
    "name": "ipython",
    "version": 3
   },
   "file_extension": ".py",
   "mimetype": "text/x-python",
   "name": "python",
   "nbconvert_exporter": "python",
   "pygments_lexer": "ipython3",
   "version": "3.7.9"
  }
 },
 "nbformat": 4,
 "nbformat_minor": 4
}
